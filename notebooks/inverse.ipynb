{
 "cells": [
  {
   "cell_type": "code",
   "execution_count": 3,
   "metadata": {},
   "outputs": [
    {
     "name": "stderr",
     "output_type": "stream",
     "text": [
      "WARNING: replacing module celerite.\n"
     ]
    }
   ],
   "source": [
    "include(\"../src/celerite.jl\")\n",
    "include(\"../src/terms.jl\")\n",
    "include(\"../TransitModel/transit.jl\")\n",
    "using Plots\n",
    "using Statistics\n",
    "using LaTeXStrings\n",
    "using LinearAlgebra"
   ]
  },
  {
   "cell_type": "code",
   "execution_count": 24,
   "metadata": {},
   "outputs": [
    {
     "data": {
      "text/plain": [
       "get_cov (generic function with 1 method)"
      ]
     },
     "execution_count": 24,
     "metadata": {},
     "output_type": "execute_result"
    }
   ],
   "source": [
    "function get_cov(t, term, var, Q)\n",
    "    return kron(get_value(term, broadcast(-, t', t)), Q) .+ diagm(0 => var)\n",
    "end"
   ]
  },
  {
   "cell_type": "code",
   "execution_count": 511,
   "metadata": {},
   "outputs": [],
   "source": [
    "t = collect(-1:0.01:1)\n",
    "var = [1, 3, 10, 12]\n",
    "monovar = 1/sum(1 ./var)\n",
    "var_array = kron(ones(length(t)), var)\n",
    "c = [1, 3, 5, 8]\n",
    "Q = broadcast(*, c, c')\n",
    "K = get_cov(t, SHOTerm(-25, 0, log(1/sqrt(2))), var_array, Q);"
   ]
  },
  {
   "cell_type": "code",
   "execution_count": 512,
   "metadata": {},
   "outputs": [],
   "source": [
    "gp = celerite.Celerite(celerite.SHOTerm(-25, 0, log(1/sqrt(2))), Q)\n",
    "celerite.compute!(gp, t, sqrt.(var_array));"
   ]
  },
  {
   "cell_type": "code",
   "execution_count": 513,
   "metadata": {},
   "outputs": [],
   "source": [
    "f = randn(length(t))\n",
    "f2 = kron(f, ones(length(c)));"
   ]
  },
  {
   "cell_type": "code",
   "execution_count": 514,
   "metadata": {},
   "outputs": [
    {
     "data": {
      "text/plain": [
       "0.003297176931107345"
      ]
     },
     "execution_count": 514,
     "metadata": {},
     "output_type": "execute_result"
    }
   ],
   "source": [
    "delta_p = 1/(f2'*celerite.apply_inverse(gp, f2))"
   ]
  },
  {
   "cell_type": "code",
   "execution_count": 515,
   "metadata": {},
   "outputs": [
    {
     "data": {
      "text/plain": [
       "0.0032971769310982946"
      ]
     },
     "execution_count": 515,
     "metadata": {},
     "output_type": "execute_result"
    }
   ],
   "source": [
    "monogp = celerite.Celerite(celerite.SHOTerm(-25, 0, log(1/sqrt(2))))\n",
    "celerite.compute!(monogp, t, sqrt(monovar))\n",
    "delta_m = 1/(f'*celerite.apply_inverse(monogp, f))"
   ]
  },
  {
   "cell_type": "code",
   "execution_count": 516,
   "metadata": {},
   "outputs": [
    {
     "data": {
      "text/plain": [
       "1.000000000002745"
      ]
     },
     "execution_count": 516,
     "metadata": {},
     "output_type": "execute_result"
    }
   ],
   "source": [
    "delta_p/delta_m"
   ]
  },
  {
   "cell_type": "code",
   "execution_count": 498,
   "metadata": {},
   "outputs": [
    {
     "data": {
      "text/plain": [
       "0.1875"
      ]
     },
     "execution_count": 498,
     "metadata": {},
     "output_type": "execute_result"
    }
   ],
   "source": [
    "prod(var)/(monovar^2)"
   ]
  },
  {
   "cell_type": "code",
   "execution_count": null,
   "metadata": {},
   "outputs": [],
   "source": []
  },
  {
   "cell_type": "raw",
   "metadata": {},
   "source": []
  }
 ],
 "metadata": {
  "kernelspec": {
   "display_name": "Julia 1.0.0",
   "language": "julia",
   "name": "julia-1.0"
  },
  "language_info": {
   "file_extension": ".jl",
   "mimetype": "application/julia",
   "name": "julia",
   "version": "1.0.0"
  }
 },
 "nbformat": 4,
 "nbformat_minor": 2
}
